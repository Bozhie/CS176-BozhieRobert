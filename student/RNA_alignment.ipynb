{
 "cells": [
  {
   "cell_type": "code",
   "execution_count": 48,
   "metadata": {},
   "outputs": [],
   "source": [
    "import numpy as np"
   ]
  },
  {
   "cell_type": "code",
   "execution_count": 49,
   "metadata": {},
   "outputs": [
    {
     "name": "stdout",
     "output_type": "stream",
     "text": [
      "cab\n"
     ]
    }
   ],
   "source": [
    "def get_bwt(s, sa):\n",
    "    \"\"\"\n",
    "    Input:\n",
    "        s: a string terminated by a unique delimiter '$'\n",
    "        sa: the suffix array of s\n",
    "\n",
    "    Output:\n",
    "        L: BWT of s as a string\n",
    "    \"\"\"\n",
    "    L = \"\"\n",
    "    for i in range(len(sa)):\n",
    "        L += s[sa[i] - 1 % len(s)]\n",
    "    return L\n",
    "\n",
    "print(get_bwt(\"abc\", [0,1,2]))"
   ]
  },
  {
   "cell_type": "code",
   "execution_count": 50,
   "metadata": {},
   "outputs": [
    {
     "name": "stdout",
     "output_type": "stream",
     "text": [
      "AGGGTAGGAAAAGT$AAA\n",
      "['$' 'A' 'A' 'A' 'A' 'A' 'A' 'A' 'A' 'A' 'G' 'G' 'G' 'G' 'G' 'G' 'T' 'T']\n"
     ]
    }
   ],
   "source": [
    "def get_F(L):\n",
    "    \n",
    "    a_count, c_count, g_count, t_count, dollar = 0,0,0,0,0\n",
    "    for s in L:\n",
    "        if s == 'A':\n",
    "            a_count += 1\n",
    "        elif s == 'C':\n",
    "            c_count += 1\n",
    "        elif s == 'G':\n",
    "            g_count += 1\n",
    "        elif s == 'T':\n",
    "            t_count += 1\n",
    "        else:\n",
    "            dollar += 1\n",
    "    F = np.empty(len(L), str)\n",
    "    i = 0\n",
    "    for j in range(dollar):\n",
    "        F[i] = '$'\n",
    "        i += 1\n",
    "    for j in range(a_count):\n",
    "        F[i] = 'A'\n",
    "        i += 1\n",
    "    for j in range(c_count):\n",
    "        F[i] = 'C'\n",
    "        i += 1\n",
    "    for j in range(g_count):\n",
    "        F[i] = 'G'\n",
    "        i += 1\n",
    "    for j in range(t_count):\n",
    "        F[i] = 'T'\n",
    "        i += 1\n",
    "    return F\n",
    "\n",
    "L = 'AGGGTAGGAAAAGT$AAA'\n",
    "F = get_F(L)\n",
    "print(L)\n",
    "print (F)"
   ]
  },
  {
   "cell_type": "code",
   "execution_count": 51,
   "metadata": {},
   "outputs": [
    {
     "name": "stdout",
     "output_type": "stream",
     "text": [
      "['$' 'A' 'A' 'A' 'A' 'A' 'A' 'A' 'A' 'A' 'G' 'G' 'G' 'G' 'G' 'G' 'T' 'T']\n",
      "0\n",
      "1\n",
      "10\n",
      "10\n",
      "16\n"
     ]
    }
   ],
   "source": [
    "def get_M(F):\n",
    "    \n",
    "    def bin_search(c):\n",
    "        lo = 0\n",
    "        hi = len(F)\n",
    "        while lo < hi - 1:\n",
    "            mid = (lo + hi)//2 \n",
    "            if (F[mid] < c):\n",
    "                lo = mid\n",
    "            else:\n",
    "                hi = mid\n",
    "        return lo + 1\n",
    "    return {'$' : 0, 'A' : 1, 'C' : bin_search('C'), 'G' : bin_search('G'), 'T': bin_search('T')}\n",
    "\n",
    "print(F)\n",
    "M = get_M(F)\n",
    "for key in M:\n",
    "    print(M[key])"
   ]
  },
  {
   "cell_type": "code",
   "execution_count": 52,
   "metadata": {},
   "outputs": [
    {
     "name": "stdout",
     "output_type": "stream",
     "text": [
      "[1, 10, 10, 4]\n"
     ]
    }
   ],
   "source": [
    "l = [1,2,3,4]\n",
    "l[1:3] = [10,10]\n",
    "print(l)"
   ]
  },
  {
   "cell_type": "code",
   "execution_count": 53,
   "metadata": {},
   "outputs": [
    {
     "name": "stdout",
     "output_type": "stream",
     "text": [
      "g\n",
      "d\n",
      "i\n"
     ]
    }
   ],
   "source": [
    "for c in 'gdi':\n",
    "    print(c)"
   ]
  },
  {
   "cell_type": "code",
   "execution_count": null,
   "metadata": {},
   "outputs": [],
   "source": []
  }
 ],
 "metadata": {
  "kernelspec": {
   "display_name": "Python 3",
   "language": "python",
   "name": "python3"
  },
  "language_info": {
   "codemirror_mode": {
    "name": "ipython",
    "version": 3
   },
   "file_extension": ".py",
   "mimetype": "text/x-python",
   "name": "python",
   "nbconvert_exporter": "python",
   "pygments_lexer": "ipython3",
   "version": "3.6.5"
  }
 },
 "nbformat": 4,
 "nbformat_minor": 2
}
